{
 "cells": [
  {
   "cell_type": "code",
   "execution_count": 1,
   "id": "79408647",
   "metadata": {},
   "outputs": [],
   "source": [
    "import pandas as pd\n",
    "import re \n",
    "import numpy as np"
   ]
  },
  {
   "cell_type": "code",
   "execution_count": 2,
   "id": "064f6f40",
   "metadata": {},
   "outputs": [],
   "source": [
    "# Specify the file path to your CSV file and the encoding\n",
    "csv_file_path = \"attacks.csv\"\n",
    "csv_encoding = \"latin-1\"  # You can also try \"ISO-8859-1\"\n",
    "\n",
    "# Read the CSV file into a DataFrame with the specified encoding\n",
    "df = pd.read_csv(csv_file_path, encoding=csv_encoding)\n",
    "\n",
    "# Now, 'df' contains your data from the CSV file"
   ]
  },
  {
   "cell_type": "code",
   "execution_count": 3,
   "id": "470973c9",
   "metadata": {},
   "outputs": [
    {
     "name": "stdout",
     "output_type": "stream",
     "text": [
      "['Case Number', 'Date', 'Year', 'Month', 'Type', 'Country', 'Area', 'Location', 'Activity', 'Name', 'Sex ', 'Age', 'Injury', 'Fatal (Y/N)', 'Time', 'Species ', 'Investigator or Source', 'pdf', 'href formula', 'href', 'Case Number.1', 'Case Number.2', 'original order']\n"
     ]
    }
   ],
   "source": [
    "file_list = [f for f in df]\n",
    "print(file_list)"
   ]
  },
  {
   "cell_type": "code",
   "execution_count": 4,
   "id": "3f6f0d9c",
   "metadata": {},
   "outputs": [],
   "source": [
    "df.rename(columns = {\"Sex \":\"Sex\"}, inplace = True)\n",
    "df.rename(columns = {\"Species \":\"Species\"}, inplace = True)"
   ]
  },
  {
   "cell_type": "code",
   "execution_count": 5,
   "id": "5be6b8f2",
   "metadata": {},
   "outputs": [],
   "source": [
    "df = df.drop([\"Date\",\"Name\",\"Investigator or Source\",\"Activity\",\"pdf\",\"href formula\",\"href\",\"original order\",\"Case Number.1\", \"Case Number.2\"], axis = 1)"
   ]
  },
  {
   "cell_type": "code",
   "execution_count": 6,
   "id": "90ea9d57",
   "metadata": {},
   "outputs": [
    {
     "name": "stdout",
     "output_type": "stream",
     "text": [
      "(6094, 13)\n",
      "Case Number    object\n",
      "Year            int64\n",
      "Month           int64\n",
      "Type           object\n",
      "Country        object\n",
      "Area           object\n",
      "Location       object\n",
      "Sex            object\n",
      "Age             int64\n",
      "Injury         object\n",
      "Fatal (Y/N)    object\n",
      "Time           object\n",
      "Species        object\n",
      "dtype: object\n"
     ]
    }
   ],
   "source": [
    "print(df.shape)\n",
    "print(df.dtypes)\n"
   ]
  },
  {
   "cell_type": "code",
   "execution_count": 7,
   "id": "d89903d8",
   "metadata": {},
   "outputs": [
    {
     "data": {
      "text/plain": [
       "Case Number       0\n",
       "Year              0\n",
       "Month             0\n",
       "Type              0\n",
       "Country          21\n",
       "Area            296\n",
       "Location        369\n",
       "Sex               0\n",
       "Age               0\n",
       "Injury           19\n",
       "Fatal (Y/N)       0\n",
       "Time           2654\n",
       "Species        2435\n",
       "dtype: int64"
      ]
     },
     "execution_count": 7,
     "metadata": {},
     "output_type": "execute_result"
    }
   ],
   "source": [
    "null_cols = df.isnull().sum()\n",
    "null_cols"
   ]
  },
  {
   "cell_type": "code",
   "execution_count": 8,
   "id": "0136d5b5",
   "metadata": {},
   "outputs": [],
   "source": [
    "df[\"Year\"] = df[\"Year\"].astype(str)"
   ]
  },
  {
   "cell_type": "code",
   "execution_count": 9,
   "id": "8333a52b",
   "metadata": {},
   "outputs": [
    {
     "name": "stdout",
     "output_type": "stream",
     "text": [
      "(32, 13)\n"
     ]
    }
   ],
   "source": [
    "df['Country'] = df['Country'].str.replace('England', 'UNITED KINGDOM')\n",
    "df['Country'] = df['Country'].str.replace('SCOTLAND', 'UNITED KINGDOM')\n",
    "df['Country'] = df['Country'].str.replace('ENGLAND', 'UNITED KINGDOM')\n",
    "\n",
    "filtered = df[(df['Country'] == \"UNITED KINGDOM\")]\n",
    "print(filtered.shape)"
   ]
  },
  {
   "cell_type": "code",
   "execution_count": 10,
   "id": "f6a67a9f",
   "metadata": {},
   "outputs": [
    {
     "data": {
      "text/plain": [
       "Unprovoked     4134\n",
       "Provoked        816\n",
       "0               683\n",
       "Unspecified     461\n",
       "Name: Type, dtype: int64"
      ]
     },
     "execution_count": 10,
     "metadata": {},
     "output_type": "execute_result"
    }
   ],
   "source": [
    "df[\"Type\"] = df[\"Type\"].str.replace('Unknown', 'Unspecified')\n",
    "df[\"Type\"] = df[\"Type\"].str.replace('Sea Disaster', 'Unprovoked')\n",
    "df.loc[df['Type'].str.startswith('Boat'), \"Type\"] = 'Provoked'\n",
    "\n",
    "df[\"Type\"].value_counts()"
   ]
  },
  {
   "cell_type": "code",
   "execution_count": 11,
   "id": "250fb553",
   "metadata": {},
   "outputs": [],
   "source": [
    "dict_time = {'':['>','<','h','Before','Early','Earlyafter', ' ','Late','Mid','Mid-','j','After', 'Lateafter','after'],\n",
    "            'Morning':['-Morning','A.M.','AM','PM','Sometimebetween0600&08oo','2rsbeforesunset','morning','Between 1100 & 1200'],\n",
    "            'Evening':['\"evening\"','\"Evening\"','Sunset','nigt','Nigt','P.M.','Dusk','\"sortly before dusk\"'],\n",
    "            'Afternoon':['Noon','Late afternon','Late afternoon','Early afternoon','noon','Midday.','Midday','Sortlybefore1300','1101 -time of sip sinking'],\n",
    "            'Unspecified':['day','Possiblysameincidentas2000.08.21','FATAL  (Wire netting installed at local beaces after tis incident.)','2 rs before sunset','FATAL(Wire netting installed at local beaces after tis incident.)','--']}\n",
    "\n",
    "dict_time_s = {'Early Morning':['00','01','02','03','04','05'],\n",
    "               'Morning':['06','07','08','09','10','11'],\n",
    "              'Afternoon':['12','13','14','15','16','17'],\n",
    "              'Evening':['18','19','20','21','22','23','00','01','02','03','04','05']}\n",
    "\n",
    "\n",
    "def stWdict(dictionary, dataframe, column):\n",
    "    #startwith\n",
    "    for k,v in dictionary.items():\n",
    "        for e in v: \n",
    "            dataframe.loc[dataframe[column].str.startswith(e), column] = k\n",
    "    return dataframe\n",
    "\n",
    "\n",
    "\n",
    "def repDict(dictionary, dataframe, column):\n",
    "    #replace \n",
    "    for k,v in dictionary.items():\n",
    "        for e in v:\n",
    "            dataframe[column] = dataframe[column].str.replace(e,k)  \n",
    "    \n",
    "    return dataframe "
   ]
  },
  {
   "cell_type": "code",
   "execution_count": 12,
   "id": "1e68ceb7",
   "metadata": {},
   "outputs": [
    {
     "name": "stderr",
     "output_type": "stream",
     "text": [
      "/var/folders/j5/_42xd4zd3mg_z3qdfvj11tjw0000gn/T/ipykernel_17175/3070096504.py:26: FutureWarning: The default value of regex will change from True to False in a future version.\n",
      "  dataframe[column] = dataframe[column].str.replace(e,k)\n"
     ]
    }
   ],
   "source": [
    "repDict(dict_time, df, 'Time')\n",
    "df['Time'] = df['Time'].fillna(\"Unspecified\")"
   ]
  },
  {
   "cell_type": "code",
   "execution_count": 13,
   "id": "cba7d7da",
   "metadata": {
    "scrolled": false
   },
   "outputs": [
    {
     "data": {
      "text/html": [
       "<div>\n",
       "<style scoped>\n",
       "    .dataframe tbody tr th:only-of-type {\n",
       "        vertical-align: middle;\n",
       "    }\n",
       "\n",
       "    .dataframe tbody tr th {\n",
       "        vertical-align: top;\n",
       "    }\n",
       "\n",
       "    .dataframe thead th {\n",
       "        text-align: right;\n",
       "    }\n",
       "</style>\n",
       "<table border=\"1\" class=\"dataframe\">\n",
       "  <thead>\n",
       "    <tr style=\"text-align: right;\">\n",
       "      <th></th>\n",
       "      <th>Case Number</th>\n",
       "      <th>Year</th>\n",
       "      <th>Month</th>\n",
       "      <th>Type</th>\n",
       "      <th>Country</th>\n",
       "      <th>Area</th>\n",
       "      <th>Location</th>\n",
       "      <th>Sex</th>\n",
       "      <th>Age</th>\n",
       "      <th>Injury</th>\n",
       "      <th>Fatal (Y/N)</th>\n",
       "      <th>Time</th>\n",
       "      <th>Species</th>\n",
       "    </tr>\n",
       "  </thead>\n",
       "  <tbody>\n",
       "    <tr>\n",
       "      <th>0</th>\n",
       "      <td>2017.06.11</td>\n",
       "      <td>2017</td>\n",
       "      <td>6</td>\n",
       "      <td>Unprovoked</td>\n",
       "      <td>AUSTRALIA</td>\n",
       "      <td>Western Australia</td>\n",
       "      <td>Point Casuarina, Bunbury</td>\n",
       "      <td>M</td>\n",
       "      <td>48</td>\n",
       "      <td>No injury, board bitten</td>\n",
       "      <td>N</td>\n",
       "      <td>Morning</td>\n",
       "      <td>White shark, 4 m</td>\n",
       "    </tr>\n",
       "    <tr>\n",
       "      <th>1</th>\n",
       "      <td>2017.06.10.b</td>\n",
       "      <td>2017</td>\n",
       "      <td>6</td>\n",
       "      <td>Unprovoked</td>\n",
       "      <td>AUSTRALIA</td>\n",
       "      <td>Victoria</td>\n",
       "      <td>Flinders, Mornington Penisula</td>\n",
       "      <td>F</td>\n",
       "      <td>22</td>\n",
       "      <td>No injury, knocke off board</td>\n",
       "      <td>N</td>\n",
       "      <td>Afternoon</td>\n",
       "      <td>7 gill shark</td>\n",
       "    </tr>\n",
       "    <tr>\n",
       "      <th>2</th>\n",
       "      <td>2017.06.10.a</td>\n",
       "      <td>2017</td>\n",
       "      <td>6</td>\n",
       "      <td>Unprovoked</td>\n",
       "      <td>USA</td>\n",
       "      <td>Florida</td>\n",
       "      <td>Ponce Inlet, Volusia County</td>\n",
       "      <td>M</td>\n",
       "      <td>19</td>\n",
       "      <td>Laceration to left foot</td>\n",
       "      <td>N</td>\n",
       "      <td>Morning</td>\n",
       "      <td>NaN</td>\n",
       "    </tr>\n",
       "    <tr>\n",
       "      <th>3</th>\n",
       "      <td>2017.06.07.R</td>\n",
       "      <td>2017</td>\n",
       "      <td>6</td>\n",
       "      <td>Unprovoked</td>\n",
       "      <td>UNITED KINGDOM</td>\n",
       "      <td>South Devon</td>\n",
       "      <td>Bantham Beach</td>\n",
       "      <td>M</td>\n",
       "      <td>30</td>\n",
       "      <td>Bruise to leg, cuts to hand sustained when he ...</td>\n",
       "      <td>N</td>\n",
       "      <td>Unspecified</td>\n",
       "      <td>3m shark, probably a smooth hound</td>\n",
       "    </tr>\n",
       "    <tr>\n",
       "      <th>4</th>\n",
       "      <td>2017.06.04</td>\n",
       "      <td>2017</td>\n",
       "      <td>6</td>\n",
       "      <td>Unprovoked</td>\n",
       "      <td>USA</td>\n",
       "      <td>Florida</td>\n",
       "      <td>Middle Sambo Reef off Boca Chica, Monroe County</td>\n",
       "      <td>M</td>\n",
       "      <td>22</td>\n",
       "      <td>Laceration to shin</td>\n",
       "      <td>N</td>\n",
       "      <td>Unspecified</td>\n",
       "      <td>8' shark</td>\n",
       "    </tr>\n",
       "    <tr>\n",
       "      <th>...</th>\n",
       "      <td>...</td>\n",
       "      <td>...</td>\n",
       "      <td>...</td>\n",
       "      <td>...</td>\n",
       "      <td>...</td>\n",
       "      <td>...</td>\n",
       "      <td>...</td>\n",
       "      <td>...</td>\n",
       "      <td>...</td>\n",
       "      <td>...</td>\n",
       "      <td>...</td>\n",
       "      <td>...</td>\n",
       "      <td>...</td>\n",
       "    </tr>\n",
       "    <tr>\n",
       "      <th>6089</th>\n",
       "      <td>ND.0005</td>\n",
       "      <td>0</td>\n",
       "      <td>0</td>\n",
       "      <td>0</td>\n",
       "      <td>0</td>\n",
       "      <td>0</td>\n",
       "      <td>0</td>\n",
       "      <td>0</td>\n",
       "      <td>0</td>\n",
       "      <td>0</td>\n",
       "      <td>0</td>\n",
       "      <td>0</td>\n",
       "      <td>0</td>\n",
       "    </tr>\n",
       "    <tr>\n",
       "      <th>6090</th>\n",
       "      <td>ND.0004</td>\n",
       "      <td>0</td>\n",
       "      <td>0</td>\n",
       "      <td>0</td>\n",
       "      <td>0</td>\n",
       "      <td>0</td>\n",
       "      <td>0</td>\n",
       "      <td>0</td>\n",
       "      <td>0</td>\n",
       "      <td>0</td>\n",
       "      <td>0</td>\n",
       "      <td>0</td>\n",
       "      <td>0</td>\n",
       "    </tr>\n",
       "    <tr>\n",
       "      <th>6091</th>\n",
       "      <td>ND.0003</td>\n",
       "      <td>0</td>\n",
       "      <td>0</td>\n",
       "      <td>0</td>\n",
       "      <td>0</td>\n",
       "      <td>0</td>\n",
       "      <td>0</td>\n",
       "      <td>0</td>\n",
       "      <td>0</td>\n",
       "      <td>0</td>\n",
       "      <td>0</td>\n",
       "      <td>0</td>\n",
       "      <td>0</td>\n",
       "    </tr>\n",
       "    <tr>\n",
       "      <th>6092</th>\n",
       "      <td>ND.0002</td>\n",
       "      <td>0</td>\n",
       "      <td>0</td>\n",
       "      <td>0</td>\n",
       "      <td>0</td>\n",
       "      <td>0</td>\n",
       "      <td>0</td>\n",
       "      <td>0</td>\n",
       "      <td>0</td>\n",
       "      <td>0</td>\n",
       "      <td>0</td>\n",
       "      <td>0</td>\n",
       "      <td>0</td>\n",
       "    </tr>\n",
       "    <tr>\n",
       "      <th>6093</th>\n",
       "      <td>ND.0001</td>\n",
       "      <td>0</td>\n",
       "      <td>0</td>\n",
       "      <td>0</td>\n",
       "      <td>0</td>\n",
       "      <td>0</td>\n",
       "      <td>0</td>\n",
       "      <td>0</td>\n",
       "      <td>0</td>\n",
       "      <td>0</td>\n",
       "      <td>0</td>\n",
       "      <td>0</td>\n",
       "      <td>0</td>\n",
       "    </tr>\n",
       "  </tbody>\n",
       "</table>\n",
       "<p>6094 rows × 13 columns</p>\n",
       "</div>"
      ],
      "text/plain": [
       "       Case Number  Year  Month        Type         Country  \\\n",
       "0       2017.06.11  2017      6  Unprovoked       AUSTRALIA   \n",
       "1     2017.06.10.b  2017      6  Unprovoked       AUSTRALIA   \n",
       "2     2017.06.10.a  2017      6  Unprovoked             USA   \n",
       "3     2017.06.07.R  2017      6  Unprovoked  UNITED KINGDOM   \n",
       "4       2017.06.04  2017      6  Unprovoked             USA   \n",
       "...            ...   ...    ...         ...             ...   \n",
       "6089       ND.0005     0      0           0               0   \n",
       "6090       ND.0004     0      0           0               0   \n",
       "6091       ND.0003     0      0           0               0   \n",
       "6092       ND.0002     0      0           0               0   \n",
       "6093       ND.0001     0      0           0               0   \n",
       "\n",
       "                   Area                                         Location Sex  \\\n",
       "0     Western Australia                         Point Casuarina, Bunbury   M   \n",
       "1              Victoria                    Flinders, Mornington Penisula   F   \n",
       "2               Florida                      Ponce Inlet, Volusia County   M   \n",
       "3           South Devon                                    Bantham Beach   M   \n",
       "4               Florida  Middle Sambo Reef off Boca Chica, Monroe County   M   \n",
       "...                 ...                                              ...  ..   \n",
       "6089                  0                                                0   0   \n",
       "6090                  0                                                0   0   \n",
       "6091                  0                                                0   0   \n",
       "6092                  0                                                0   0   \n",
       "6093                  0                                                0   0   \n",
       "\n",
       "      Age                                             Injury Fatal (Y/N)  \\\n",
       "0      48                            No injury, board bitten           N   \n",
       "1      22                        No injury, knocke off board           N   \n",
       "2      19                            Laceration to left foot           N   \n",
       "3      30  Bruise to leg, cuts to hand sustained when he ...           N   \n",
       "4      22                                 Laceration to shin           N   \n",
       "...   ...                                                ...         ...   \n",
       "6089    0                                                  0           0   \n",
       "6090    0                                                  0           0   \n",
       "6091    0                                                  0           0   \n",
       "6092    0                                                  0           0   \n",
       "6093    0                                                  0           0   \n",
       "\n",
       "             Time                            Species  \n",
       "0         Morning                   White shark, 4 m  \n",
       "1       Afternoon                       7 gill shark  \n",
       "2         Morning                                NaN  \n",
       "3     Unspecified  3m shark, probably a smooth hound  \n",
       "4     Unspecified                           8' shark  \n",
       "...           ...                                ...  \n",
       "6089            0                                  0  \n",
       "6090            0                                  0  \n",
       "6091            0                                  0  \n",
       "6092            0                                  0  \n",
       "6093            0                                  0  \n",
       "\n",
       "[6094 rows x 13 columns]"
      ]
     },
     "execution_count": 13,
     "metadata": {},
     "output_type": "execute_result"
    }
   ],
   "source": [
    "stWdict(dict_time_s, df, 'Time')"
   ]
  },
  {
   "cell_type": "code",
   "execution_count": 14,
   "id": "89077fcd",
   "metadata": {},
   "outputs": [
    {
     "data": {
      "text/plain": [
       "Unspecified                                             2669\n",
       "Afternoon                                               1479\n",
       "Morning                                                  863\n",
       "0                                                        683\n",
       "Evening                                                  324\n",
       "Early Morning                                             32\n",
       "                                                           4\n",
       "non                                                        2\n",
       "JustbeforeAfternoon                                        2\n",
       "Dawn                                                       2\n",
       "Dark                                                       2\n",
       "Unspecified.                                               1\n",
       "-Morning                                                   1\n",
       "Justbeforedawn                                             1\n",
       "Daytime                                                    1\n",
       "\"lunc\"                                                     1\n",
       "Between1100&1200                                           1\n",
       "\"dark\"                                                     1\n",
       "\"sortlybeforedusk\"                                         1\n",
       "Priorto1037                                                1\n",
       "Sipaban-donedat0310                                        1\n",
       "dusk                                                       1\n",
       "FATAL(Wirenettinginstalledatlocalbeacestisincident.)       1\n",
       "midEvening                                                 1\n",
       "Daybreak                                                   1\n",
       "Between0600&0720                                           1\n",
       "X                                                          1\n",
       "Between0500and0800                                         1\n",
       "900                                                        1\n",
       "830                                                        1\n",
       "Lunctime                                                   1\n",
       "500                                                        1\n",
       "\"Justbefore1100\"                                           1\n",
       "Justbeforesundown                                          1\n",
       "Just1200                                                   1\n",
       "Eveningfall                                                1\n",
       "SortlymidEvening                                           1\n",
       "8:04Morning                                                1\n",
       "AfterAfternoon                                             1\n",
       "2oursOpperman                                              1\n",
       "Sortlybefore1200                                           1\n",
       "30minutes1992.07.08.a                                      1\n",
       "\"Evening\"                                                  1\n",
       "Name: Time, dtype: int64"
      ]
     },
     "execution_count": 14,
     "metadata": {},
     "output_type": "execute_result"
    }
   ],
   "source": [
    "df['Time'].value_counts()"
   ]
  },
  {
   "cell_type": "markdown",
   "id": "785c3473",
   "metadata": {},
   "source": [
    "## Note: Remaining Cleaning for time will be done manually on Excel"
   ]
  },
  {
   "cell_type": "code",
   "execution_count": 15,
   "id": "64e70ec6",
   "metadata": {},
   "outputs": [],
   "source": [
    "df[\"Area\"]= df[\"Area\"].fillna(\"Unspecified\")"
   ]
  },
  {
   "cell_type": "code",
   "execution_count": 16,
   "id": "9d75ce4c",
   "metadata": {},
   "outputs": [
    {
     "data": {
      "text/plain": [
       "Florida                                           987\n",
       "0                                                 683\n",
       "New South Wales                                   413\n",
       "Unspecified                                       296\n",
       "Queensland                                        277\n",
       "                                                 ... \n",
       "Middle Caicos                                       1\n",
       "Western Caroline Islands (North Pacific Ocean)      1\n",
       "Namonuito Atoll                                     1\n",
       "San André archipelago                             1\n",
       "Baja California Sur                                 1\n",
       "Name: Area, Length: 700, dtype: int64"
      ]
     },
     "execution_count": 16,
     "metadata": {},
     "output_type": "execute_result"
    }
   ],
   "source": [
    "df[\"Area\"].value_counts()"
   ]
  },
  {
   "cell_type": "code",
   "execution_count": 17,
   "id": "dfaf9b2c",
   "metadata": {},
   "outputs": [
    {
     "data": {
      "text/plain": [
       "Florida                  987\n",
       "0                        683\n",
       "New South Wales          413\n",
       "Unspecified              296\n",
       "Queensland               277\n",
       "California               275\n",
       "Hawaii                   267\n",
       "KwaZulu-Natal            197\n",
       "Western Cape Province    183\n",
       "Western Australia        165\n",
       "Eastern Cape Province    150\n",
       "South Carolina           133\n",
       "South Australia           92\n",
       "North Carolina            92\n",
       "Pernambuco                71\n",
       "Victoria                  69\n",
       "Texas                     67\n",
       "Torres Strait             65\n",
       "North Island              46\n",
       "New Jersey                42\n",
       "Tasmania                  33\n",
       "South Island              31\n",
       "Oregon                    29\n",
       "Abaco Islands             22\n",
       "Central Province          22\n",
       "Northern Territory        21\n",
       "Puerto Rico               16\n",
       "Gaza                      16\n",
       "Virginia                  16\n",
       "South Province            15\n",
       "New Ireland Province      15\n",
       "New York                  14\n",
       "Madang Province           14\n",
       "Veracruz                  14\n",
       "Guerrero                  13\n",
       "Quintana Roo              12\n",
       "North Province            12\n",
       "Georgia                   12\n",
       "Havana Province           12\n",
       "Alabama                   12\n",
       "Louisiana                 11\n",
       "Rio de Janeiro            11\n",
       "Luzon Island              11\n",
       "Name: Area, dtype: int64"
      ]
     },
     "execution_count": 17,
     "metadata": {},
     "output_type": "execute_result"
    }
   ],
   "source": [
    "count = df['Area'].value_counts()\n",
    "count[count > 10]\n",
    "df=df[df['Area'].isin(count[count >10].index)]\n",
    "df[\"Area\"].value_counts()"
   ]
  },
  {
   "cell_type": "code",
   "execution_count": 18,
   "id": "eaa29bc7",
   "metadata": {},
   "outputs": [
    {
     "name": "stdout",
     "output_type": "stream",
     "text": [
      "Requirement already satisfied: countryinfo in /Users/ayomikunadebawojo/opt/anaconda3/lib/python3.9/site-packages (0.1.2)\r\n"
     ]
    }
   ],
   "source": [
    "!pip install countryinfo"
   ]
  },
  {
   "cell_type": "code",
   "execution_count": 19,
   "id": "916a49e7",
   "metadata": {},
   "outputs": [],
   "source": [
    "from countryinfo import CountryInfo\n",
    "from subprocess import check_output\n",
    "import seaborn as sns\n",
    "\n",
    "def clean_colnames(df):\n",
    "    '''Clean columns names when passing a pandas dataframe: params (df - dataframe)'''\n",
    "    col_clean = []\n",
    "    for col in df.columns:\n",
    "        col = col.strip().lower()\n",
    "        col = col.replace('.',' ')\n",
    "        col_clean.append(col)\n",
    "        \n",
    "    df.columns = col_clean\n",
    "    return df.columns\n",
    "\n",
    "def change_col_pos(col,pos,df):\n",
    "    '''Change the position of a column in a dataframe: params(col - column name, \n",
    "    pos - new index position, df - dataframe)'''\n",
    "    all_cols = df.columns.tolist()\n",
    "    temp = all_cols.pop(all_cols.index(col))\n",
    "    all_cols.insert(pos,col)\n",
    "    \n",
    "    df = df[all_cols]\n",
    "    \n",
    "    return df\n",
    "\n",
    "def country_hem(col):\n",
    "    '''Return a list if countries are part of the north (1) or south (0) hemispheres of planet earth. If country\n",
    "    is not recognized, NaN is returned'''\n",
    "    hem_lst = []\n",
    "    for row in col:\n",
    "        try:\n",
    "            country = CountryInfo(row)\n",
    "        except AttributeError:\n",
    "            row = 'x'\n",
    "   \n",
    "        try:\n",
    "            pos = country.latlng()\n",
    "        except KeyError:\n",
    "            pos = (0,0)\n",
    "    \n",
    "        if pos[0] > 0:\n",
    "            temp_row = 1\n",
    "        elif pos[0] < 0:\n",
    "            temp_row = 0\n",
    "        else:\n",
    "            temp_row = np.nan\n",
    "    \n",
    "        hem_lst.append(temp_row)\n",
    "    \n",
    "    return hem_lst"
   ]
  },
  {
   "cell_type": "code",
   "execution_count": 20,
   "id": "5f6a7bdd",
   "metadata": {},
   "outputs": [
    {
     "data": {
      "text/plain": [
       "array(['AUSTRALIA', 'USA', 'SOUTH AFRICA', 'NEW ZEALAND', 'BRAZIL',\n",
       "       'MEXICO', 'NEW CALEDONIA', 'REUNION', 'BAHAMAS', 'ARUBA', 'FIJI',\n",
       "       'PUERTO RICO', 'EGYPT', 'ATLANTIC OCEAN', 'GREECE', 'JAPAN', nan,\n",
       "       'ST. MARTIN', 'CAYMAN ISLANDS', 'PAPUA NEW GUINEA', 'DIEGO GARCIA',\n",
       "       'PALESTINIAN TERRITORIES', 'GUAM', 'SEYCHELLES', 'BELIZE',\n",
       "       'CROATIA', 'PHILIPPINES', 'SAMOA', 'DOMINICAN REPUBLIC', 'AZORES',\n",
       "       'MALTA', 'VIETNAM', 'SOMALIA', 'NEVIS', 'TAIWAN', 'SENEGAL',\n",
       "       'COSTA RICA', 'ITALY', 'THAILAND', 'LIBERIA', 'MADAGASCAR',\n",
       "       'VENEZUELA', 'INDONESIA', 'TURKS & CAICOS', 'CARIBBEAN SEA',\n",
       "       'TANZANIA', 'MAURITIUS', 'MOZAMBIQUE', 'SOUTH KOREA',\n",
       "       'NORTHERN ARABIAN SEA', 'CHILE', 'HONG KONG', 'BERMUDA', 'IRAN',\n",
       "       'TUNISIA', 'UNITED KINGDOM', 'NORTH ATLANTIC OCEAN',\n",
       "       'SOUTH CHINA SEA', 'PACIFIC OCEAN ', 'SOLOMON ISLANDS', 'TONGA',\n",
       "       'COLUMBIA', 'SINGAPORE', 'JOHNSTON ISLAND', 'SOUTH PACIFIC OCEAN',\n",
       "       'JAMAICA', 'NEW GUINEA', 'NORTH PACIFIC OCEAN',\n",
       "       'MID ATLANTIC OCEAN', 'PANAMA', 'ANDAMAN / NICOBAR ISLANDAS',\n",
       "       'CUBA', 'MARTINIQUE', 'INDIAN OCEAN', 'GUATEMALA', 'INDIA',\n",
       "       'PACIFIC OCEAN', 'CHINA', 'ISRAEL', 'OKINAWA', 'PORTUGAL',\n",
       "       'CENTRAL PACIFIC', 'SIERRA LEONE', 'IRAQ',\n",
       "       'SOLOMON ISLANDS / VANUATU', 'SOUTHWEST PACIFIC OCEAN',\n",
       "       'BAY OF BENGAL', 'SOUTH ATLANTIC OCEAN', 'SRI LANKA', 'TURKEY',\n",
       "       'ITALY / CROATIA', 'KUWAIT', 'FALKLAND ISLANDS', 'CRETE', '0'],\n",
       "      dtype=object)"
      ]
     },
     "execution_count": 20,
     "metadata": {},
     "output_type": "execute_result"
    }
   ],
   "source": [
    "df['Country'].unique()"
   ]
  },
  {
   "cell_type": "code",
   "execution_count": 21,
   "id": "7bb21158",
   "metadata": {},
   "outputs": [
    {
     "name": "stderr",
     "output_type": "stream",
     "text": [
      "/var/folders/j5/_42xd4zd3mg_z3qdfvj11tjw0000gn/T/ipykernel_17175/2696976617.py:25: SettingWithCopyWarning: \n",
      "A value is trying to be set on a copy of a slice from a DataFrame\n",
      "\n",
      "See the caveats in the documentation: https://pandas.pydata.org/pandas-docs/stable/user_guide/indexing.html#returning-a-view-versus-a-copy\n",
      "  df['Country'].replace(row,new_row, inplace = True)\n",
      "/var/folders/j5/_42xd4zd3mg_z3qdfvj11tjw0000gn/T/ipykernel_17175/2696976617.py:27: SettingWithCopyWarning: \n",
      "A value is trying to be set on a copy of a slice from a DataFrame\n",
      "\n",
      "See the caveats in the documentation: https://pandas.pydata.org/pandas-docs/stable/user_guide/indexing.html#returning-a-view-versus-a-copy\n",
      "  df['Country'].replace(row,np.nan, inplace = True)\n"
     ]
    }
   ],
   "source": [
    "for row in df['Country']:\n",
    "    if isinstance(row, str):\n",
    "        new_row = re.sub('\\/.+|\\(.+\\)|\\.|\\?', '', row)\n",
    "        new_row = re.sub('\\&', 'and', new_row.strip().upper())\n",
    "        \n",
    "        if new_row == 'USA':\n",
    "            new_row = new_row.replace(new_row, 'UNITED STATES')\n",
    "        elif new_row == 'BAHAMAS':\n",
    "            new_row = new_row.replace(new_row, 'THE BAHAMAS')\n",
    "        elif new_row == 'BRITISH ISLES':\n",
    "            new_row = new_row.replace(new_row, 'UNITED KINGDOM')\n",
    "        elif new_row == 'REUNION':\n",
    "            new_row = new_row.replace(new_row, 'réunion')\n",
    "        elif new_row == 'OKINAWA':\n",
    "            new_row = new_row.replace(new_row, 'JAPAN')\n",
    "        elif new_row == 'AZORES':\n",
    "            new_row = new_row.replace(new_row, 'PORTUGAL')\n",
    "        elif new_row == 'RED SEA':\n",
    "            new_row = new_row.replace(new_row, 'EGYPT')\n",
    "        elif new_row == 'COLUMBIA':\n",
    "            new_row = new_row.replace(new_row, 'COLOMBIA')\n",
    "        elif new_row == 'NEW BRITAIN' or new_row == 'NEW GUINEA' or new_row == 'BRITISH NEW GUINEA' or new_row == 'ADMIRALTY ISLANDS':\n",
    "            new_row = new_row.replace(new_row, 'PAPUA NEW GUINEA')\n",
    "        \n",
    "        df['Country'].replace(row,new_row, inplace = True)\n",
    "    else:\n",
    "        df['Country'].replace(row,np.nan, inplace = True)"
   ]
  },
  {
   "cell_type": "code",
   "execution_count": 22,
   "id": "78fbf138",
   "metadata": {},
   "outputs": [
    {
     "data": {
      "text/plain": [
       "array(['AUSTRALIA', 'UNITED STATES', 'SOUTH AFRICA', 'NEW ZEALAND',\n",
       "       'BRAZIL', 'MEXICO', 'NEW CALEDONIA', 'RÉUNION', 'THE BAHAMAS',\n",
       "       'ARUBA', 'FIJI', 'PUERTO RICO', 'EGYPT', 'ATLANTIC OCEAN',\n",
       "       'GREECE', 'JAPAN', nan, 'ST MARTIN', 'CAYMAN ISLANDS',\n",
       "       'PAPUA NEW GUINEA', 'DIEGO GARCIA', 'PALESTINIAN TERRITORIES',\n",
       "       'GUAM', 'SEYCHELLES', 'BELIZE', 'CROATIA', 'PHILIPPINES', 'SAMOA',\n",
       "       'DOMINICAN REPUBLIC', 'PORTUGAL', 'MALTA', 'VIETNAM', 'SOMALIA',\n",
       "       'NEVIS', 'TAIWAN', 'SENEGAL', 'COSTA RICA', 'ITALY', 'THAILAND',\n",
       "       'LIBERIA', 'MADAGASCAR', 'VENEZUELA', 'INDONESIA',\n",
       "       'TURKS and CAICOS', 'CARIBBEAN SEA', 'TANZANIA', 'MAURITIUS',\n",
       "       'MOZAMBIQUE', 'SOUTH KOREA', 'NORTHERN ARABIAN SEA', 'CHILE',\n",
       "       'HONG KONG', 'BERMUDA', 'IRAN', 'TUNISIA', 'UNITED KINGDOM',\n",
       "       'NORTH ATLANTIC OCEAN', 'SOUTH CHINA SEA', 'PACIFIC OCEAN',\n",
       "       'SOLOMON ISLANDS', 'TONGA', 'COLOMBIA', 'SINGAPORE',\n",
       "       'JOHNSTON ISLAND', 'SOUTH PACIFIC OCEAN', 'JAMAICA',\n",
       "       'NORTH PACIFIC OCEAN', 'MID ATLANTIC OCEAN', 'PANAMA', 'ANDAMAN',\n",
       "       'CUBA', 'MARTINIQUE', 'INDIAN OCEAN', 'GUATEMALA', 'INDIA',\n",
       "       'CHINA', 'ISRAEL', 'CENTRAL PACIFIC', 'SIERRA LEONE', 'IRAQ',\n",
       "       'SOUTHWEST PACIFIC OCEAN', 'BAY OF BENGAL', 'SOUTH ATLANTIC OCEAN',\n",
       "       'SRI LANKA', 'TURKEY', 'KUWAIT', 'FALKLAND ISLANDS', 'CRETE', '0'],\n",
       "      dtype=object)"
      ]
     },
     "execution_count": 22,
     "metadata": {},
     "output_type": "execute_result"
    }
   ],
   "source": [
    "df['Country'].unique()"
   ]
  },
  {
   "cell_type": "code",
   "execution_count": 23,
   "id": "c26dd0e2",
   "metadata": {},
   "outputs": [
    {
     "name": "stderr",
     "output_type": "stream",
     "text": [
      "/var/folders/j5/_42xd4zd3mg_z3qdfvj11tjw0000gn/T/ipykernel_17175/963116223.py:2: SettingWithCopyWarning: \n",
      "A value is trying to be set on a copy of a slice from a DataFrame.\n",
      "Try using .loc[row_indexer,col_indexer] = value instead\n",
      "\n",
      "See the caveats in the documentation: https://pandas.pydata.org/pandas-docs/stable/user_guide/indexing.html#returning-a-view-versus-a-copy\n",
      "  df['Species'] = df['Species'].fillna('Unknown shark')\n",
      "/var/folders/j5/_42xd4zd3mg_z3qdfvj11tjw0000gn/T/ipykernel_17175/963116223.py:5: SettingWithCopyWarning: \n",
      "A value is trying to be set on a copy of a slice from a DataFrame.\n",
      "Try using .loc[row_indexer,col_indexer] = value instead\n",
      "\n",
      "See the caveats in the documentation: https://pandas.pydata.org/pandas-docs/stable/user_guide/indexing.html#returning-a-view-versus-a-copy\n",
      "  df['New Species'] = None\n"
     ]
    },
    {
     "data": {
      "text/html": [
       "<div>\n",
       "<style scoped>\n",
       "    .dataframe tbody tr th:only-of-type {\n",
       "        vertical-align: middle;\n",
       "    }\n",
       "\n",
       "    .dataframe tbody tr th {\n",
       "        vertical-align: top;\n",
       "    }\n",
       "\n",
       "    .dataframe thead th {\n",
       "        text-align: right;\n",
       "    }\n",
       "</style>\n",
       "<table border=\"1\" class=\"dataframe\">\n",
       "  <thead>\n",
       "    <tr style=\"text-align: right;\">\n",
       "      <th></th>\n",
       "      <th>Species</th>\n",
       "      <th>Count</th>\n",
       "    </tr>\n",
       "  </thead>\n",
       "  <tbody>\n",
       "    <tr>\n",
       "      <th>0</th>\n",
       "      <td>Unknown shark</td>\n",
       "      <td>1839</td>\n",
       "    </tr>\n",
       "    <tr>\n",
       "      <th>1</th>\n",
       "      <td>Unconfirmed Shark involvement</td>\n",
       "      <td>833</td>\n",
       "    </tr>\n",
       "    <tr>\n",
       "      <th>2</th>\n",
       "      <td>White shark</td>\n",
       "      <td>345</td>\n",
       "    </tr>\n",
       "    <tr>\n",
       "      <th>3</th>\n",
       "      <td>Tiger shark</td>\n",
       "      <td>185</td>\n",
       "    </tr>\n",
       "    <tr>\n",
       "      <th>4</th>\n",
       "      <td>Bull shark</td>\n",
       "      <td>87</td>\n",
       "    </tr>\n",
       "  </tbody>\n",
       "</table>\n",
       "</div>"
      ],
      "text/plain": [
       "                         Species  Count\n",
       "0                  Unknown shark   1839\n",
       "1  Unconfirmed Shark involvement    833\n",
       "2                    White shark    345\n",
       "3                    Tiger shark    185\n",
       "4                     Bull shark     87"
      ]
     },
     "execution_count": 23,
     "metadata": {},
     "output_type": "execute_result"
    }
   ],
   "source": [
    "# Filling NaN value with string \"Unknown shark\"\n",
    "df['Species'] = df['Species'].fillna('Unknown shark')\n",
    "\n",
    "# Create new column to store the extracted Shark species\n",
    "df['New Species'] = None\n",
    "\n",
    "# Regular Expression pattern used to extract shark species (ultimately getting everything infront of the word \"shark\")\n",
    "shark_pattern = r'.* (shark|Shark)'\n",
    "\n",
    "# Looping through every row in the dataFrame\n",
    "for row in range(len(df)):\n",
    "    try:\n",
    "        shark_species = re.search(shark_pattern, df.iat[row, df.columns.get_loc('Species')]).group()\n",
    "        df.iat[row, df.columns.get_loc('New Species')] = shark_species\n",
    "    except:\n",
    "        # Assuming that if there is nothing before string shark OR doesn't contain string shark at all,\n",
    "        # then I will put the string Unconfirmed Shark involvement\n",
    "        df.iat[row, df.columns.get_loc('New Species')] = \"Unconfirmed Shark involvement\"\n",
    "\n",
    "bySpecies_count = df['New Species'].value_counts().reset_index().rename(columns={'New Species':'Count','index':'Species'})\n",
    "bySpecies_count.head()"
   ]
  },
  {
   "cell_type": "code",
   "execution_count": 24,
   "id": "6ac55eb3",
   "metadata": {},
   "outputs": [
    {
     "name": "stderr",
     "output_type": "stream",
     "text": [
      "/var/folders/j5/_42xd4zd3mg_z3qdfvj11tjw0000gn/T/ipykernel_17175/4265330549.py:1: SettingWithCopyWarning: \n",
      "A value is trying to be set on a copy of a slice from a DataFrame.\n",
      "Try using .loc[row_indexer,col_indexer] = value instead\n",
      "\n",
      "See the caveats in the documentation: https://pandas.pydata.org/pandas-docs/stable/user_guide/indexing.html#returning-a-view-versus-a-copy\n",
      "  df['hemisphere'] = country_hem(df['Country'])\n"
     ]
    }
   ],
   "source": [
    "df['hemisphere'] = country_hem(df['Country'])"
   ]
  },
  {
   "cell_type": "code",
   "execution_count": 25,
   "id": "3403f5f5",
   "metadata": {},
   "outputs": [],
   "source": [
    "df = change_col_pos('hemisphere',6,df)"
   ]
  },
  {
   "cell_type": "code",
   "execution_count": 26,
   "id": "4f0c0d40",
   "metadata": {},
   "outputs": [
    {
     "data": {
      "text/plain": [
       "1.0    2207\n",
       "0.0    2016\n",
       "NaN     731\n",
       "Name: hemisphere, dtype: int64"
      ]
     },
     "execution_count": 26,
     "metadata": {},
     "output_type": "execute_result"
    }
   ],
   "source": [
    "df['hemisphere'].value_counts(dropna=False)"
   ]
  },
  {
   "cell_type": "code",
   "execution_count": 27,
   "id": "7284498f",
   "metadata": {},
   "outputs": [],
   "source": [
    "nh = ['north sea', 'scotland', 'north pacific ocean', 'turks and caicos', 'caribbean sea', 'persian gulf', 'micronesia', \n",
    "     'burma', 'north atlantic ocean', 'montenegro', 'the balkans', 'northern arabian sea', 'netherlands antilles', 'mediterranean sea',\n",
    "     'grand cayman', 'netherlands antilles', 'south china sea', 'st martin', 'andaman', 'palestinian territories', 'johnston island',\n",
    "     'nevis', 'bay of bengal']\n",
    "sh = ['south atlantic ocean', 'western samoa', 'southwest pacific ocean', 'tasman sea', 'st helena']"
   ]
  },
  {
   "cell_type": "code",
   "execution_count": 28,
   "id": "5dd2c832",
   "metadata": {},
   "outputs": [],
   "source": [
    "for row in df.index:\n",
    "    if df.at[row,'Country'] in nh:\n",
    "        df.at[row, 'hemisphere'] = 1\n",
    "    elif df.at[row, 'Country'] in sh:\n",
    "        df.at[row, 'hemisphere'] = 0"
   ]
  },
  {
   "cell_type": "code",
   "execution_count": 29,
   "id": "0e9435ea",
   "metadata": {},
   "outputs": [
    {
     "data": {
      "text/plain": [
       "1.0    2207\n",
       "0.0    2016\n",
       "NaN     731\n",
       "Name: hemisphere, dtype: int64"
      ]
     },
     "execution_count": 29,
     "metadata": {},
     "output_type": "execute_result"
    }
   ],
   "source": [
    "df['hemisphere'].value_counts(dropna=False)"
   ]
  },
  {
   "cell_type": "code",
   "execution_count": 30,
   "id": "b0fea412",
   "metadata": {},
   "outputs": [
    {
     "data": {
      "text/html": [
       "<div>\n",
       "<style scoped>\n",
       "    .dataframe tbody tr th:only-of-type {\n",
       "        vertical-align: middle;\n",
       "    }\n",
       "\n",
       "    .dataframe tbody tr th {\n",
       "        vertical-align: top;\n",
       "    }\n",
       "\n",
       "    .dataframe thead th {\n",
       "        text-align: right;\n",
       "    }\n",
       "</style>\n",
       "<table border=\"1\" class=\"dataframe\">\n",
       "  <thead>\n",
       "    <tr style=\"text-align: right;\">\n",
       "      <th></th>\n",
       "      <th>Case Number</th>\n",
       "      <th>Year</th>\n",
       "      <th>Month</th>\n",
       "      <th>Type</th>\n",
       "      <th>Country</th>\n",
       "      <th>Area</th>\n",
       "      <th>hemisphere</th>\n",
       "      <th>Location</th>\n",
       "      <th>Sex</th>\n",
       "      <th>Age</th>\n",
       "      <th>Injury</th>\n",
       "      <th>Fatal (Y/N)</th>\n",
       "      <th>Time</th>\n",
       "      <th>Species</th>\n",
       "      <th>New Species</th>\n",
       "    </tr>\n",
       "  </thead>\n",
       "  <tbody>\n",
       "  </tbody>\n",
       "</table>\n",
       "</div>"
      ],
      "text/plain": [
       "Empty DataFrame\n",
       "Columns: [Case Number, Year, Month, Type, Country, Area, hemisphere, Location, Sex, Age, Injury, Fatal (Y/N), Time, Species, New Species]\n",
       "Index: []"
      ]
     },
     "execution_count": 30,
     "metadata": {},
     "output_type": "execute_result"
    }
   ],
   "source": [
    "df[df['Country'] == 'atlantic ocean']"
   ]
  },
  {
   "cell_type": "code",
   "execution_count": 31,
   "id": "30b70fa3",
   "metadata": {},
   "outputs": [],
   "source": [
    "df.at[4561, 'hemisphere'] = 0"
   ]
  },
  {
   "cell_type": "code",
   "execution_count": 32,
   "id": "628b90e6",
   "metadata": {},
   "outputs": [],
   "source": [
    "df[\"Month\"] = df[\"Month\"].astype(str)"
   ]
  },
  {
   "cell_type": "code",
   "execution_count": 33,
   "id": "31a6731d",
   "metadata": {},
   "outputs": [],
   "source": [
    "n_seasons = {'Spring': ['3', '4', '5'],\n",
    "             'Summer': ['6', '7', '8'],\n",
    "             'Autumn': ['9', '10', '11'],\n",
    "             'Winter': ['12', '1', '2']}\n",
    "\n",
    "s_seasons = {'Spring': ['9', '10', '11'],\n",
    "             'Summer': ['12', '1', '2'],\n",
    "             'Autumn': ['3', '4', '5'],\n",
    "             'Winter': ['6', '7', '8']}\n",
    "\n",
    "temp_seasons = []\n",
    "\n",
    "# Define a function to determine the season for a given row\n",
    "def get_season(row):\n",
    "    if row['hemisphere'] == 1:\n",
    "        if row['Month'] in n_seasons['Spring']:\n",
    "            return 'Spring'\n",
    "        elif row['Month'] in n_seasons['Summer']:\n",
    "            return 'Summer'\n",
    "        elif row['Month'] in n_seasons['Autumn']:\n",
    "            return 'Autumn'\n",
    "        elif row['Month'] in n_seasons['Winter']:\n",
    "            return 'Winter'\n",
    "    \n",
    "    elif row['hemisphere'] == 0:\n",
    "        if row['Month'] in s_seasons['Spring']:\n",
    "            return 'Spring'\n",
    "        elif row['Month'] in s_seasons['Summer']:\n",
    "            return 'Summer'\n",
    "        elif row['Month'] in s_seasons['Autumn']:\n",
    "            return 'Autumn'\n",
    "        elif row['Month'] in s_seasons['Winter']:\n",
    "            return 'Winter'\n",
    "    \n",
    "    return 'Unknown'  # Default value for unmatched rows\n",
    "\n",
    "# Apply the get_season function to each row in the DataFrame\n",
    "df['seasons'] = df.apply(get_season, axis=1)"
   ]
  },
  {
   "cell_type": "code",
   "execution_count": 34,
   "id": "6e4a525b",
   "metadata": {},
   "outputs": [
    {
     "name": "stdout",
     "output_type": "stream",
     "text": [
      "       Case Number  Year Month        Type        Country               Area  \\\n",
      "0       2017.06.11  2017     6  Unprovoked      AUSTRALIA  Western Australia   \n",
      "1     2017.06.10.b  2017     6  Unprovoked      AUSTRALIA           Victoria   \n",
      "2     2017.06.10.a  2017     6  Unprovoked  UNITED STATES            Florida   \n",
      "4       2017.06.04  2017     6  Unprovoked  UNITED STATES            Florida   \n",
      "6       2017.05.30  2017     5    Provoked  UNITED STATES     South Carolina   \n",
      "...            ...   ...   ...         ...            ...                ...   \n",
      "6089       ND.0005     0     0           0              0                  0   \n",
      "6090       ND.0004     0     0           0              0                  0   \n",
      "6091       ND.0003     0     0           0              0                  0   \n",
      "6092       ND.0002     0     0           0              0                  0   \n",
      "6093       ND.0001     0     0           0              0                  0   \n",
      "\n",
      "      hemisphere                                         Location Sex  Age  \\\n",
      "0            0.0                         Point Casuarina, Bunbury   M   48   \n",
      "1            0.0                    Flinders, Mornington Penisula   F   22   \n",
      "2            1.0                      Ponce Inlet, Volusia County   M   19   \n",
      "4            1.0  Middle Sambo Reef off Boca Chica, Monroe County   M   22   \n",
      "6            1.0                       Awendaw, Charleston County   F   20   \n",
      "...          ...                                              ...  ..  ...   \n",
      "6089         NaN                                                0   0    0   \n",
      "6090         NaN                                                0   0    0   \n",
      "6091         NaN                                                0   0    0   \n",
      "6092         NaN                                                0   0    0   \n",
      "6093         NaN                                                0   0    0   \n",
      "\n",
      "                                                 Injury Fatal (Y/N)  \\\n",
      "0                               No injury, board bitten           N   \n",
      "1                           No injury, knocke off board           N   \n",
      "2                               Laceration to left foot           N   \n",
      "4                                    Laceration to shin           N   \n",
      "6     Right hand bitten by hooked shark PROVOKED INC...           N   \n",
      "...                                                 ...         ...   \n",
      "6089                                                  0           0   \n",
      "6090                                                  0           0   \n",
      "6091                                                  0           0   \n",
      "6092                                                  0           0   \n",
      "6093                                                  0           0   \n",
      "\n",
      "             Time           Species                    New Species  seasons  \\\n",
      "0         Morning  White shark, 4 m                    White shark   Winter   \n",
      "1       Afternoon      7 gill shark                   7 gill shark   Winter   \n",
      "2         Morning     Unknown shark                  Unknown shark   Summer   \n",
      "4     Unspecified          8' shark                       8' shark   Summer   \n",
      "6     Unspecified          3' shark                       3' shark   Spring   \n",
      "...           ...               ...                            ...      ...   \n",
      "6089            0                 0  Unconfirmed Shark involvement  Unknown   \n",
      "6090            0                 0  Unconfirmed Shark involvement  Unknown   \n",
      "6091            0                 0  Unconfirmed Shark involvement  Unknown   \n",
      "6092            0                 0  Unconfirmed Shark involvement  Unknown   \n",
      "6093            0                 0  Unconfirmed Shark involvement  Unknown   \n",
      "\n",
      "     Injury_Category  \n",
      "0        No Injuries  \n",
      "1        No Injuries  \n",
      "2         Lower Body  \n",
      "4         Upper Body  \n",
      "6         Upper Body  \n",
      "...              ...  \n",
      "6089     No Injuries  \n",
      "6090     No Injuries  \n",
      "6091     No Injuries  \n",
      "6092     No Injuries  \n",
      "6093     No Injuries  \n",
      "\n",
      "[4954 rows x 17 columns]\n"
     ]
    }
   ],
   "source": [
    "# Define regular expressions for body parts\n",
    "upper_body_pattern = r\"(head|neck|chest|shoulder|back|arm|hand|wrist|shin|Upper Body|abdomen|torso)\"\n",
    "lower_body_pattern = r\"(leg|hip|thigh|knee|calf|ankle|foot|buttocks|Lower Body|toes)\"\n",
    "multiple_parts_pattern = r\"(head\\s*,|\\s*neck\\s*,|\\s*chest\\s*,|\\s*shoulder\\s*,|\\s*back\\s*,|\" \\\n",
    "                         r\"\\s*arm\\s*,|\\s*hand\\s*,|\\s*wrist\\s*,|\\s*leg\\s*,|\\s*hip\\s*,|\" \\\n",
    "                         r\"\\s*thigh\\s*,|\\s*knee\\s*,|\\s*calf\\s*,|\\s*ankle\\s*,|\\s*foot\\s*|\\s*Multiple Injuries\\s*|\\s*torso\\s*)\"\n",
    "\n",
    "# Function to categorize injuries\n",
    "def categorize_injuries(description):\n",
    "    if isinstance(description, str):\n",
    "        if re.search(upper_body_pattern, description, re.I):\n",
    "            return \"Upper Body\"\n",
    "        elif re.search(lower_body_pattern, description, re.I):\n",
    "            return \"Lower Body\"\n",
    "        elif re.search(multiple_parts_pattern, description, re.I):\n",
    "            return \"Multiple Parts\"\n",
    "        else:\n",
    "            return \"No Injuries\"\n",
    "    else:\n",
    "        return \"No Injuries\"  # Handle non-string values\n",
    "\n",
    "# Apply categorization to the 'Injury' column and store the result in 'Injury_Category' column\n",
    "df['Injury_Category'] = df['Injury'].apply(categorize_injuries)\n",
    "\n",
    "# Print the DataFrame with the new column\n",
    "print(df)"
   ]
  },
  {
   "cell_type": "code",
   "execution_count": 35,
   "id": "65c6fa34",
   "metadata": {},
   "outputs": [
    {
     "name": "stdout",
     "output_type": "stream",
     "text": [
      "Data has been saved to output_data.xlsx\n"
     ]
    }
   ],
   "source": [
    "# Define the output Excel file path\n",
    "output_excel_file = 'output_data.xlsx'\n",
    "\n",
    "# Save the DataFrame to an Excel file\n",
    "df.to_excel(output_excel_file, index=False)\n",
    "\n",
    "print(f'Data has been saved to {output_excel_file}')"
   ]
  },
  {
   "cell_type": "code",
   "execution_count": null,
   "id": "a2e3a571",
   "metadata": {},
   "outputs": [],
   "source": []
  }
 ],
 "metadata": {
  "kernelspec": {
   "display_name": "Python 3 (ipykernel)",
   "language": "python",
   "name": "python3"
  },
  "language_info": {
   "codemirror_mode": {
    "name": "ipython",
    "version": 3
   },
   "file_extension": ".py",
   "mimetype": "text/x-python",
   "name": "python",
   "nbconvert_exporter": "python",
   "pygments_lexer": "ipython3",
   "version": "3.9.13"
  }
 },
 "nbformat": 4,
 "nbformat_minor": 5
}
